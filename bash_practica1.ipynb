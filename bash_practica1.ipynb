{
 "cells": [
  {
   "cell_type": "markdown",
   "id": "ae216855-9c54-48f6-9804-3298b34b1230",
   "metadata": {
    "tags": []
   },
   "source": [
    "# Boletı́n de prácticas 1 – Manejo básico del shell de Linux\n",
    "### Consideraciones previas\n",
    "Para el uso de este cuaderno, lo primero que debemos hacer es instalar y habilitar el kernel de Bash en nuestro entorno Jupyter ejecutando la siguiente celda de código. Tras ello, debemos activar el kernel Bash en nuestro entorno Jupyter usando el desplegable superior derecho. El resto de este cuaderno supone que tenemos este kernel activo."
   ]
  },
  {
   "cell_type": "code",
   "execution_count": null,
   "id": "5fab714c-2eb9-47c8-a618-f48b5dc542ad",
   "metadata": {
    "tags": []
   },
   "outputs": [],
   "source": [
    "!pip install bash_kernel\n",
    "!python -m bash_kernel.install"
   ]
  },
  {
   "cell_type": "markdown",
   "id": "604862f8-5aac-430d-a8fd-a7f72a417fc8",
   "metadata": {
    "tags": []
   },
   "source": [
    "## Listado de ficheros y directorios\n",
    "\n",
    "Aunque las distribuciones de Linux poseen navegadores de ficheros que permiten inspeccionar los directorios, e incluso copiar arrastrando con el ratón los ficheros de una ventana a otra del navegador, el terminal de Linux nos ofrece muchas más posibilidades de listado de ficheros de un modo más personalizado. Para ello se dispone de la orden `ls`, cuya sintaxis, según su página de manual, es:\n",
    "\n",
    "`ls [OPCIÓN]... [FICHERO]...`\n",
    "\n",
    "Como vemos, en la sintaxis se habla únicamente de «fichero», por lo que debemos entender que el fichero puede ser de cualquier tipo, incluyendo directorios.\n",
    "\n",
    "Sin ninguna opción, ls lista las entradas de los directorios dados como argumentos en formato corto (es decir, mostrando solo el nombre). Si aparecen ficheros en los argumentos, los nombres de estos también se muestran en el listado, a no ser que algún fichero sea en realidad un directorio, en cuyo caso lo que se muestra es su contenido y no su nombre (este comportamiento se puede modificar con la opción `-d`, descrita a continuación). Si no se pasa ningún argumento a ls, se lista el contenido del directorio actual, lo cual es equivalente a haber ejecutado «`ls .`».\n",
    "\n",
    "Compara la salida de las siguientes dos órdenes y verás que el resultado es el mismo:"
   ]
  },
  {
   "cell_type": "code",
   "execution_count": null,
   "id": "fff7ffe4-f16b-43a3-b0f7-2c484e5dd7aa",
   "metadata": {},
   "outputs": [],
   "source": [
    "ls"
   ]
  },
  {
   "cell_type": "code",
   "execution_count": null,
   "id": "e96c0849-f825-4cd5-bb72-497b15eb23fb",
   "metadata": {},
   "outputs": [],
   "source": [
    "ls ."
   ]
  },
  {
   "cell_type": "markdown",
   "id": "d5146050-cdac-4c99-a34c-740b87843676",
   "metadata": {},
   "source": [
    "Entre las opciones más habituales de ls, tenemos las siguientes:\n",
    "\n",
    "\n",
    "* `-l`: lista, en formato largo, las entradas del directorio indicado (ver figura a continuación). Cada lı́nea se corresponde con una entrada. Si la lı́nea empieza por d, se trata de un directorio, si empieza por un guion (-) es un fichero regular, si empieza por l es un enlace simbólico, . . . Continúa con los permisos; el número de enlaces fı́sicos que tiene esa entrada; el usuario al que pertenece el fichero; el grupo al que pertenece el fichero; el tamaño del fichero en bytes; fecha y hora de su última modificación (o solo la fecha con el año si el fichero se modificó hace más de 6 meses); y, finalmente, su nombre. Volveremos sobre los enlaces (fı́sicos y simbólicos) y los permisos en boletines posteriores de este curso.\n",
    "\n",
    "<div>\n",
    "<img src=\"listadolargo.jpeg\" style=\"display=block; margin:auto; margin:50%\"/>\n",
    "</div>\n",
    "\n",
    "Ejemplo:"
   ]
  },
  {
   "cell_type": "code",
   "execution_count": null,
   "id": "4831779b-fea8-46de-a3d9-2e294cfaeb97",
   "metadata": {},
   "outputs": [],
   "source": [
    "ls -l /etc/apt"
   ]
  },
  {
   "cell_type": "markdown",
   "id": "7a76c7d4-1aa3-4700-b617-b63082519e24",
   "metadata": {},
   "source": [
    "* `-R`: lista recursivamente todas las entradas (ficheros o subdirectorios) que cuelguen del directorio indicado a cualquier profundidad. Ejemplo:"
   ]
  },
  {
   "cell_type": "code",
   "execution_count": null,
   "id": "e20fa8a1-1e0b-4e44-9363-c8c60b3f62dd",
   "metadata": {},
   "outputs": [],
   "source": [
    "ls -R /etc/apt"
   ]
  },
  {
   "cell_type": "markdown",
   "id": "14b802db-9b3e-4f6d-848d-0172f4d12d32",
   "metadata": {
    "tags": []
   },
   "source": [
    "* `-a`: lista también los ficheros y directorios «ocultos», es decir, cuyo nombre comience por el carácter punto «.», por ejemplo, `.config` o `.bash history`. Ejemplo:"
   ]
  },
  {
   "cell_type": "code",
   "execution_count": null,
   "id": "f468c319-8082-49cf-8077-7a7d3fd6e65b",
   "metadata": {},
   "outputs": [],
   "source": [
    "ls -la /home/jovyan"
   ]
  },
  {
   "cell_type": "markdown",
   "id": "c76ebd1b-a7d7-4a48-a4f2-62aee95d24ff",
   "metadata": {
    "tags": []
   },
   "source": [
    "* `-S`: lista las entradas en orden decreciente de tamaño de los ficheros correspondientes. Ejemplo:"
   ]
  },
  {
   "cell_type": "code",
   "execution_count": null,
   "id": "0b8c6abe-61a3-4c93-b10c-429436727735",
   "metadata": {},
   "outputs": [],
   "source": [
    "ls -lS /home/jovyan"
   ]
  },
  {
   "cell_type": "markdown",
   "id": "16af576e-cd5c-4116-b3d4-0a6129bffe50",
   "metadata": {
    "tags": []
   },
   "source": [
    "* `-t`: lista las entradas en orden decreciente de fecha y hora de la última modificación, es decir, desde la entrada modificada recientemente hasta la entrada modificada hace más tiempo. Ejemplo:"
   ]
  },
  {
   "cell_type": "code",
   "execution_count": null,
   "id": "de9a62e7-8c9b-4f68-a1b0-61ac7db7b848",
   "metadata": {},
   "outputs": [],
   "source": [
    "ls -lt /home/jovyan"
   ]
  },
  {
   "cell_type": "markdown",
   "id": "f971ae8c-075f-40fb-83f4-5845faaec6fd",
   "metadata": {
    "tags": []
   },
   "source": [
    "* `-r`: invierte el orden del listado de las entradas del directorio indicado según el criterio de ordenación elegido. Ejemplo:"
   ]
  },
  {
   "cell_type": "code",
   "execution_count": null,
   "id": "eb078829-cab0-4a8f-97f1-b103fa42a618",
   "metadata": {},
   "outputs": [],
   "source": [
    "ls -lSr /home/jovyan"
   ]
  },
  {
   "cell_type": "markdown",
   "id": "bbb02a65-bf4e-4ce3-8bec-b354a9ddb23c",
   "metadata": {
    "tags": []
   },
   "source": [
    "* `-d`: trata a los argumentos que son directorios como simples ficheros, por lo que la orden `ls` muestra información de los directorios en sı́ (sus permisos, tamaños, ...) y no de las entradas que contienen dichos directorios (esto último es el comportamiento por defecto, como ya hemos explicado). Observa el siguiente ejemplo donde, a diferencia de lo que ha ocurrido en las órdenes anteriores, no se muestra el contenido del directorio `/home/jovyan` sino información (atributos) del propio directorio:"
   ]
  },
  {
   "cell_type": "code",
   "execution_count": null,
   "id": "01ac511b-0314-4f40-b0f4-0215c54b38dd",
   "metadata": {},
   "outputs": [],
   "source": [
    "ls -ld /home/jovyan"
   ]
  },
  {
   "cell_type": "markdown",
   "id": "3b216025-affc-4721-bfc6-5baf17521ca5",
   "metadata": {
    "tags": []
   },
   "source": [
    "Como muestran los ejemplos anteriores, estas opciones se pueden combinar en una misma orden `ls` y el efecto obtenido será la suma de los efectos producidos por cada una de ellas salvo, claro está, que haya dos opciones contradictorias, por ejemplo, opciones que indiquen distintas ordenaciones de las entradas (por ejemplo, `-t` y `-S`), en cuyo caso predominará el efecto de la última opción dada."
   ]
  }
 ],
 "metadata": {
  "kernelspec": {
   "display_name": "Bash",
   "language": "bash",
   "name": "bash"
  },
  "language_info": {
   "codemirror_mode": "shell",
   "file_extension": ".sh",
   "mimetype": "text/x-sh",
   "name": "bash"
  }
 },
 "nbformat": 4,
 "nbformat_minor": 5
}
